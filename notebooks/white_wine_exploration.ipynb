{
 "cells": [
  {
   "cell_type": "markdown",
   "id": "1b5723dd-4c87-40ff-9497-1c2e22e14e20",
   "metadata": {},
   "source": [
    "# Some Data Exploration for the White Wine Dataset"
   ]
  },
  {
   "cell_type": "markdown",
   "id": "2610dd2f-9b4d-4e01-89e9-06e543961d03",
   "metadata": {},
   "source": [
    "## Import the libraries"
   ]
  },
  {
   "cell_type": "code",
   "execution_count": 58,
   "id": "111420b6-f073-42c2-979a-742d6c641820",
   "metadata": {},
   "outputs": [],
   "source": [
    "import sys\n",
    "from pathlib import Path\n",
    "\n",
    "import torch\n",
    "import pandas as pd\n",
    "import pickle\n",
    "import matplotlib.pyplot as plt\n",
    "from sklearn.metrics import confusion_matrix\n",
    "from scipy import stats"
   ]
  },
  {
   "cell_type": "markdown",
   "id": "36691083-a334-4ac0-843f-a3325550bba4",
   "metadata": {},
   "source": [
    "## Load the data"
   ]
  },
  {
   "cell_type": "code",
   "execution_count": 3,
   "id": "e52b4f7d-60df-45de-896d-fc62f3347c69",
   "metadata": {},
   "outputs": [],
   "source": [
    "INPUT_DATA_PATH = Path(\"../data/winequality-white.csv\")\n",
    "dataset_df = pd.read_csv(INPUT_DATA_PATH, sep=\";\")"
   ]
  },
  {
   "cell_type": "markdown",
   "id": "fd4ec631-8591-4253-9276-ef5e22411265",
   "metadata": {},
   "source": [
    "## Some Data Trend Exploration"
   ]
  },
  {
   "cell_type": "code",
   "execution_count": 4,
   "id": "f2045a02-7777-4250-b32f-0ce48b1af4e9",
   "metadata": {},
   "outputs": [
    {
     "data": {
      "text/html": [
       "<div>\n",
       "<style scoped>\n",
       "    .dataframe tbody tr th:only-of-type {\n",
       "        vertical-align: middle;\n",
       "    }\n",
       "\n",
       "    .dataframe tbody tr th {\n",
       "        vertical-align: top;\n",
       "    }\n",
       "\n",
       "    .dataframe thead th {\n",
       "        text-align: right;\n",
       "    }\n",
       "</style>\n",
       "<table border=\"1\" class=\"dataframe\">\n",
       "  <thead>\n",
       "    <tr style=\"text-align: right;\">\n",
       "      <th></th>\n",
       "      <th>fixed acidity</th>\n",
       "      <th>volatile acidity</th>\n",
       "      <th>citric acid</th>\n",
       "      <th>residual sugar</th>\n",
       "      <th>chlorides</th>\n",
       "      <th>free sulfur dioxide</th>\n",
       "      <th>total sulfur dioxide</th>\n",
       "      <th>density</th>\n",
       "      <th>pH</th>\n",
       "      <th>sulphates</th>\n",
       "      <th>alcohol</th>\n",
       "      <th>quality</th>\n",
       "    </tr>\n",
       "  </thead>\n",
       "  <tbody>\n",
       "    <tr>\n",
       "      <th>0</th>\n",
       "      <td>7.0</td>\n",
       "      <td>0.27</td>\n",
       "      <td>0.36</td>\n",
       "      <td>20.7</td>\n",
       "      <td>0.045</td>\n",
       "      <td>45.0</td>\n",
       "      <td>170.0</td>\n",
       "      <td>1.0010</td>\n",
       "      <td>3.00</td>\n",
       "      <td>0.45</td>\n",
       "      <td>8.8</td>\n",
       "      <td>6</td>\n",
       "    </tr>\n",
       "    <tr>\n",
       "      <th>1</th>\n",
       "      <td>6.3</td>\n",
       "      <td>0.30</td>\n",
       "      <td>0.34</td>\n",
       "      <td>1.6</td>\n",
       "      <td>0.049</td>\n",
       "      <td>14.0</td>\n",
       "      <td>132.0</td>\n",
       "      <td>0.9940</td>\n",
       "      <td>3.30</td>\n",
       "      <td>0.49</td>\n",
       "      <td>9.5</td>\n",
       "      <td>6</td>\n",
       "    </tr>\n",
       "    <tr>\n",
       "      <th>2</th>\n",
       "      <td>8.1</td>\n",
       "      <td>0.28</td>\n",
       "      <td>0.40</td>\n",
       "      <td>6.9</td>\n",
       "      <td>0.050</td>\n",
       "      <td>30.0</td>\n",
       "      <td>97.0</td>\n",
       "      <td>0.9951</td>\n",
       "      <td>3.26</td>\n",
       "      <td>0.44</td>\n",
       "      <td>10.1</td>\n",
       "      <td>6</td>\n",
       "    </tr>\n",
       "    <tr>\n",
       "      <th>3</th>\n",
       "      <td>7.2</td>\n",
       "      <td>0.23</td>\n",
       "      <td>0.32</td>\n",
       "      <td>8.5</td>\n",
       "      <td>0.058</td>\n",
       "      <td>47.0</td>\n",
       "      <td>186.0</td>\n",
       "      <td>0.9956</td>\n",
       "      <td>3.19</td>\n",
       "      <td>0.40</td>\n",
       "      <td>9.9</td>\n",
       "      <td>6</td>\n",
       "    </tr>\n",
       "    <tr>\n",
       "      <th>4</th>\n",
       "      <td>7.2</td>\n",
       "      <td>0.23</td>\n",
       "      <td>0.32</td>\n",
       "      <td>8.5</td>\n",
       "      <td>0.058</td>\n",
       "      <td>47.0</td>\n",
       "      <td>186.0</td>\n",
       "      <td>0.9956</td>\n",
       "      <td>3.19</td>\n",
       "      <td>0.40</td>\n",
       "      <td>9.9</td>\n",
       "      <td>6</td>\n",
       "    </tr>\n",
       "  </tbody>\n",
       "</table>\n",
       "</div>"
      ],
      "text/plain": [
       "   fixed acidity  volatile acidity  citric acid  residual sugar  chlorides  \\\n",
       "0            7.0              0.27         0.36            20.7      0.045   \n",
       "1            6.3              0.30         0.34             1.6      0.049   \n",
       "2            8.1              0.28         0.40             6.9      0.050   \n",
       "3            7.2              0.23         0.32             8.5      0.058   \n",
       "4            7.2              0.23         0.32             8.5      0.058   \n",
       "\n",
       "   free sulfur dioxide  total sulfur dioxide  density    pH  sulphates  \\\n",
       "0                 45.0                 170.0   1.0010  3.00       0.45   \n",
       "1                 14.0                 132.0   0.9940  3.30       0.49   \n",
       "2                 30.0                  97.0   0.9951  3.26       0.44   \n",
       "3                 47.0                 186.0   0.9956  3.19       0.40   \n",
       "4                 47.0                 186.0   0.9956  3.19       0.40   \n",
       "\n",
       "   alcohol  quality  \n",
       "0      8.8        6  \n",
       "1      9.5        6  \n",
       "2     10.1        6  \n",
       "3      9.9        6  \n",
       "4      9.9        6  "
      ]
     },
     "execution_count": 4,
     "metadata": {},
     "output_type": "execute_result"
    }
   ],
   "source": [
    "dataset_df.head()"
   ]
  },
  {
   "cell_type": "code",
   "execution_count": 5,
   "id": "c98853c4-2ff9-46ad-8547-684b3378bf71",
   "metadata": {},
   "outputs": [
    {
     "data": {
      "text/html": [
       "<div>\n",
       "<style scoped>\n",
       "    .dataframe tbody tr th:only-of-type {\n",
       "        vertical-align: middle;\n",
       "    }\n",
       "\n",
       "    .dataframe tbody tr th {\n",
       "        vertical-align: top;\n",
       "    }\n",
       "\n",
       "    .dataframe thead th {\n",
       "        text-align: right;\n",
       "    }\n",
       "</style>\n",
       "<table border=\"1\" class=\"dataframe\">\n",
       "  <thead>\n",
       "    <tr style=\"text-align: right;\">\n",
       "      <th></th>\n",
       "      <th>fixed acidity</th>\n",
       "      <th>volatile acidity</th>\n",
       "      <th>citric acid</th>\n",
       "      <th>residual sugar</th>\n",
       "      <th>chlorides</th>\n",
       "      <th>free sulfur dioxide</th>\n",
       "      <th>total sulfur dioxide</th>\n",
       "      <th>density</th>\n",
       "      <th>pH</th>\n",
       "      <th>sulphates</th>\n",
       "      <th>alcohol</th>\n",
       "      <th>quality</th>\n",
       "    </tr>\n",
       "  </thead>\n",
       "  <tbody>\n",
       "    <tr>\n",
       "      <th>count</th>\n",
       "      <td>4898.000000</td>\n",
       "      <td>4898.000000</td>\n",
       "      <td>4898.000000</td>\n",
       "      <td>4898.000000</td>\n",
       "      <td>4898.000000</td>\n",
       "      <td>4898.000000</td>\n",
       "      <td>4898.000000</td>\n",
       "      <td>4898.000000</td>\n",
       "      <td>4898.000000</td>\n",
       "      <td>4898.000000</td>\n",
       "      <td>4898.000000</td>\n",
       "      <td>4898.000000</td>\n",
       "    </tr>\n",
       "    <tr>\n",
       "      <th>mean</th>\n",
       "      <td>6.854788</td>\n",
       "      <td>0.278241</td>\n",
       "      <td>0.334192</td>\n",
       "      <td>6.391415</td>\n",
       "      <td>0.045772</td>\n",
       "      <td>35.308085</td>\n",
       "      <td>138.360657</td>\n",
       "      <td>0.994027</td>\n",
       "      <td>3.188267</td>\n",
       "      <td>0.489847</td>\n",
       "      <td>10.514267</td>\n",
       "      <td>5.877909</td>\n",
       "    </tr>\n",
       "    <tr>\n",
       "      <th>std</th>\n",
       "      <td>0.843868</td>\n",
       "      <td>0.100795</td>\n",
       "      <td>0.121020</td>\n",
       "      <td>5.072058</td>\n",
       "      <td>0.021848</td>\n",
       "      <td>17.007137</td>\n",
       "      <td>42.498065</td>\n",
       "      <td>0.002991</td>\n",
       "      <td>0.151001</td>\n",
       "      <td>0.114126</td>\n",
       "      <td>1.230621</td>\n",
       "      <td>0.885639</td>\n",
       "    </tr>\n",
       "    <tr>\n",
       "      <th>min</th>\n",
       "      <td>3.800000</td>\n",
       "      <td>0.080000</td>\n",
       "      <td>0.000000</td>\n",
       "      <td>0.600000</td>\n",
       "      <td>0.009000</td>\n",
       "      <td>2.000000</td>\n",
       "      <td>9.000000</td>\n",
       "      <td>0.987110</td>\n",
       "      <td>2.720000</td>\n",
       "      <td>0.220000</td>\n",
       "      <td>8.000000</td>\n",
       "      <td>3.000000</td>\n",
       "    </tr>\n",
       "    <tr>\n",
       "      <th>25%</th>\n",
       "      <td>6.300000</td>\n",
       "      <td>0.210000</td>\n",
       "      <td>0.270000</td>\n",
       "      <td>1.700000</td>\n",
       "      <td>0.036000</td>\n",
       "      <td>23.000000</td>\n",
       "      <td>108.000000</td>\n",
       "      <td>0.991723</td>\n",
       "      <td>3.090000</td>\n",
       "      <td>0.410000</td>\n",
       "      <td>9.500000</td>\n",
       "      <td>5.000000</td>\n",
       "    </tr>\n",
       "    <tr>\n",
       "      <th>50%</th>\n",
       "      <td>6.800000</td>\n",
       "      <td>0.260000</td>\n",
       "      <td>0.320000</td>\n",
       "      <td>5.200000</td>\n",
       "      <td>0.043000</td>\n",
       "      <td>34.000000</td>\n",
       "      <td>134.000000</td>\n",
       "      <td>0.993740</td>\n",
       "      <td>3.180000</td>\n",
       "      <td>0.470000</td>\n",
       "      <td>10.400000</td>\n",
       "      <td>6.000000</td>\n",
       "    </tr>\n",
       "    <tr>\n",
       "      <th>75%</th>\n",
       "      <td>7.300000</td>\n",
       "      <td>0.320000</td>\n",
       "      <td>0.390000</td>\n",
       "      <td>9.900000</td>\n",
       "      <td>0.050000</td>\n",
       "      <td>46.000000</td>\n",
       "      <td>167.000000</td>\n",
       "      <td>0.996100</td>\n",
       "      <td>3.280000</td>\n",
       "      <td>0.550000</td>\n",
       "      <td>11.400000</td>\n",
       "      <td>6.000000</td>\n",
       "    </tr>\n",
       "    <tr>\n",
       "      <th>max</th>\n",
       "      <td>14.200000</td>\n",
       "      <td>1.100000</td>\n",
       "      <td>1.660000</td>\n",
       "      <td>65.800000</td>\n",
       "      <td>0.346000</td>\n",
       "      <td>289.000000</td>\n",
       "      <td>440.000000</td>\n",
       "      <td>1.038980</td>\n",
       "      <td>3.820000</td>\n",
       "      <td>1.080000</td>\n",
       "      <td>14.200000</td>\n",
       "      <td>9.000000</td>\n",
       "    </tr>\n",
       "  </tbody>\n",
       "</table>\n",
       "</div>"
      ],
      "text/plain": [
       "       fixed acidity  volatile acidity  citric acid  residual sugar  \\\n",
       "count    4898.000000       4898.000000  4898.000000     4898.000000   \n",
       "mean        6.854788          0.278241     0.334192        6.391415   \n",
       "std         0.843868          0.100795     0.121020        5.072058   \n",
       "min         3.800000          0.080000     0.000000        0.600000   \n",
       "25%         6.300000          0.210000     0.270000        1.700000   \n",
       "50%         6.800000          0.260000     0.320000        5.200000   \n",
       "75%         7.300000          0.320000     0.390000        9.900000   \n",
       "max        14.200000          1.100000     1.660000       65.800000   \n",
       "\n",
       "         chlorides  free sulfur dioxide  total sulfur dioxide      density  \\\n",
       "count  4898.000000          4898.000000           4898.000000  4898.000000   \n",
       "mean      0.045772            35.308085            138.360657     0.994027   \n",
       "std       0.021848            17.007137             42.498065     0.002991   \n",
       "min       0.009000             2.000000              9.000000     0.987110   \n",
       "25%       0.036000            23.000000            108.000000     0.991723   \n",
       "50%       0.043000            34.000000            134.000000     0.993740   \n",
       "75%       0.050000            46.000000            167.000000     0.996100   \n",
       "max       0.346000           289.000000            440.000000     1.038980   \n",
       "\n",
       "                pH    sulphates      alcohol      quality  \n",
       "count  4898.000000  4898.000000  4898.000000  4898.000000  \n",
       "mean      3.188267     0.489847    10.514267     5.877909  \n",
       "std       0.151001     0.114126     1.230621     0.885639  \n",
       "min       2.720000     0.220000     8.000000     3.000000  \n",
       "25%       3.090000     0.410000     9.500000     5.000000  \n",
       "50%       3.180000     0.470000    10.400000     6.000000  \n",
       "75%       3.280000     0.550000    11.400000     6.000000  \n",
       "max       3.820000     1.080000    14.200000     9.000000  "
      ]
     },
     "execution_count": 5,
     "metadata": {},
     "output_type": "execute_result"
    }
   ],
   "source": [
    "dataset_df.describe()"
   ]
  },
  {
   "cell_type": "code",
   "execution_count": 6,
   "id": "c6c0e39f-6a51-4c8f-8333-0a8170b4fdd0",
   "metadata": {},
   "outputs": [
    {
     "data": {
      "text/plain": [
       "quality\n",
       "6    2198\n",
       "5    1457\n",
       "7     880\n",
       "8     175\n",
       "4     163\n",
       "3      20\n",
       "9       5\n",
       "Name: count, dtype: int64"
      ]
     },
     "execution_count": 6,
     "metadata": {},
     "output_type": "execute_result"
    }
   ],
   "source": [
    "dataset_df['quality'].value_counts()"
   ]
  },
  {
   "cell_type": "code",
   "execution_count": 35,
   "id": "f907ae32-cb48-4d3d-a89b-97e954f8943b",
   "metadata": {},
   "outputs": [
    {
     "data": {
      "text/plain": [
       "<Axes: xlabel='quality'>"
      ]
     },
     "execution_count": 35,
     "metadata": {},
     "output_type": "execute_result"
    },
    {
     "data": {
      "image/png": "[encoded data removed]",
      "text/plain": [
       "<Figure size 640x480 with 1 Axes>"
      ]
     },
     "metadata": {},
     "output_type": "display_data"
    }
   ],
   "source": [
    "dataset_df.groupby('quality').size().plot(kind=\"bar\")"
   ]
  },
  {
   "cell_type": "code",
   "execution_count": 66,
   "id": "be068a79-e8f3-426c-8c20-b2dc642d9852",
   "metadata": {},
   "outputs": [
    {
     "data": {
      "text/plain": [
       "<Axes: >"
      ]
     },
     "execution_count": 66,
     "metadata": {},
     "output_type": "execute_result"
    },
    {
     "data": {
      "image/png": "[encoded data removed]",
      "text/plain": [
       "<Figure size 640x480 with 1 Axes>"
      ]
     },
     "metadata": {},
     "output_type": "display_data"
    }
   ],
   "source": [
    "dataset_df['fixed acidity'].hist(bins=40)"
   ]
  },
  {
   "cell_type": "code",
   "execution_count": 88,
   "id": "9d9b2d18-b5b5-49d3-8d8a-c01936b8f5f9",
   "metadata": {},
   "outputs": [
    {
     "data": {
      "text/html": [
       "<div>\n",
       "<style scoped>\n",
       "    .dataframe tbody tr th:only-of-type {\n",
       "        vertical-align: middle;\n",
       "    }\n",
       "\n",
       "    .dataframe tbody tr th {\n",
       "        vertical-align: top;\n",
       "    }\n",
       "\n",
       "    .dataframe thead th {\n",
       "        text-align: right;\n",
       "    }\n",
       "</style>\n",
       "<table border=\"1\" class=\"dataframe\">\n",
       "  <thead>\n",
       "    <tr style=\"text-align: right;\">\n",
       "      <th></th>\n",
       "      <th>fixed acidity</th>\n",
       "      <th>volatile acidity</th>\n",
       "      <th>citric acid</th>\n",
       "      <th>residual sugar</th>\n",
       "      <th>chlorides</th>\n",
       "      <th>free sulfur dioxide</th>\n",
       "      <th>total sulfur dioxide</th>\n",
       "      <th>density</th>\n",
       "      <th>pH</th>\n",
       "      <th>sulphates</th>\n",
       "      <th>alcohol</th>\n",
       "      <th>quality</th>\n",
       "    </tr>\n",
       "  </thead>\n",
       "  <tbody>\n",
       "    <tr>\n",
       "      <th>207</th>\n",
       "      <td>10.2</td>\n",
       "      <td>0.44</td>\n",
       "      <td>0.88</td>\n",
       "      <td>6.2</td>\n",
       "      <td>0.049</td>\n",
       "      <td>20.0</td>\n",
       "      <td>124.0</td>\n",
       "      <td>0.9968</td>\n",
       "      <td>2.99</td>\n",
       "      <td>0.51</td>\n",
       "      <td>9.9</td>\n",
       "      <td>4</td>\n",
       "    </tr>\n",
       "    <tr>\n",
       "      <th>358</th>\n",
       "      <td>10.0</td>\n",
       "      <td>0.20</td>\n",
       "      <td>0.39</td>\n",
       "      <td>1.4</td>\n",
       "      <td>0.050</td>\n",
       "      <td>19.0</td>\n",
       "      <td>152.0</td>\n",
       "      <td>0.9940</td>\n",
       "      <td>3.00</td>\n",
       "      <td>0.42</td>\n",
       "      <td>10.4</td>\n",
       "      <td>6</td>\n",
       "    </tr>\n",
       "    <tr>\n",
       "      <th>873</th>\n",
       "      <td>10.3</td>\n",
       "      <td>0.17</td>\n",
       "      <td>0.47</td>\n",
       "      <td>1.4</td>\n",
       "      <td>0.037</td>\n",
       "      <td>5.0</td>\n",
       "      <td>33.0</td>\n",
       "      <td>0.9939</td>\n",
       "      <td>2.89</td>\n",
       "      <td>0.28</td>\n",
       "      <td>9.6</td>\n",
       "      <td>3</td>\n",
       "    </tr>\n",
       "    <tr>\n",
       "      <th>1239</th>\n",
       "      <td>10.3</td>\n",
       "      <td>0.25</td>\n",
       "      <td>0.48</td>\n",
       "      <td>2.2</td>\n",
       "      <td>0.042</td>\n",
       "      <td>28.0</td>\n",
       "      <td>164.0</td>\n",
       "      <td>0.9980</td>\n",
       "      <td>3.19</td>\n",
       "      <td>0.59</td>\n",
       "      <td>9.7</td>\n",
       "      <td>5</td>\n",
       "    </tr>\n",
       "    <tr>\n",
       "      <th>1372</th>\n",
       "      <td>10.7</td>\n",
       "      <td>0.22</td>\n",
       "      <td>0.56</td>\n",
       "      <td>8.2</td>\n",
       "      <td>0.044</td>\n",
       "      <td>37.0</td>\n",
       "      <td>181.0</td>\n",
       "      <td>0.9980</td>\n",
       "      <td>2.87</td>\n",
       "      <td>0.68</td>\n",
       "      <td>9.5</td>\n",
       "      <td>6</td>\n",
       "    </tr>\n",
       "    <tr>\n",
       "      <th>1373</th>\n",
       "      <td>10.7</td>\n",
       "      <td>0.22</td>\n",
       "      <td>0.56</td>\n",
       "      <td>8.2</td>\n",
       "      <td>0.044</td>\n",
       "      <td>37.0</td>\n",
       "      <td>181.0</td>\n",
       "      <td>0.9980</td>\n",
       "      <td>2.87</td>\n",
       "      <td>0.68</td>\n",
       "      <td>9.5</td>\n",
       "      <td>6</td>\n",
       "    </tr>\n",
       "    <tr>\n",
       "      <th>1526</th>\n",
       "      <td>14.2</td>\n",
       "      <td>0.27</td>\n",
       "      <td>0.49</td>\n",
       "      <td>1.1</td>\n",
       "      <td>0.037</td>\n",
       "      <td>33.0</td>\n",
       "      <td>156.0</td>\n",
       "      <td>0.9920</td>\n",
       "      <td>3.15</td>\n",
       "      <td>0.54</td>\n",
       "      <td>11.1</td>\n",
       "      <td>6</td>\n",
       "    </tr>\n",
       "    <tr>\n",
       "      <th>1856</th>\n",
       "      <td>10.0</td>\n",
       "      <td>0.91</td>\n",
       "      <td>0.42</td>\n",
       "      <td>1.6</td>\n",
       "      <td>0.056</td>\n",
       "      <td>34.0</td>\n",
       "      <td>181.0</td>\n",
       "      <td>0.9968</td>\n",
       "      <td>3.11</td>\n",
       "      <td>0.46</td>\n",
       "      <td>10.0</td>\n",
       "      <td>4</td>\n",
       "    </tr>\n",
       "    <tr>\n",
       "      <th>1900</th>\n",
       "      <td>10.0</td>\n",
       "      <td>0.23</td>\n",
       "      <td>0.27</td>\n",
       "      <td>14.1</td>\n",
       "      <td>0.033</td>\n",
       "      <td>45.0</td>\n",
       "      <td>166.0</td>\n",
       "      <td>0.9988</td>\n",
       "      <td>2.72</td>\n",
       "      <td>0.43</td>\n",
       "      <td>9.7</td>\n",
       "      <td>6</td>\n",
       "    </tr>\n",
       "    <tr>\n",
       "      <th>2050</th>\n",
       "      <td>11.8</td>\n",
       "      <td>0.23</td>\n",
       "      <td>0.38</td>\n",
       "      <td>11.1</td>\n",
       "      <td>0.034</td>\n",
       "      <td>15.0</td>\n",
       "      <td>123.0</td>\n",
       "      <td>0.9997</td>\n",
       "      <td>2.93</td>\n",
       "      <td>0.55</td>\n",
       "      <td>9.7</td>\n",
       "      <td>3</td>\n",
       "    </tr>\n",
       "  </tbody>\n",
       "</table>\n",
       "</div>"
      ],
      "text/plain": [
       "      fixed acidity  volatile acidity  citric acid  residual sugar  chlorides  \\\n",
       "207            10.2              0.44         0.88             6.2      0.049   \n",
       "358            10.0              0.20         0.39             1.4      0.050   \n",
       "873            10.3              0.17         0.47             1.4      0.037   \n",
       "1239           10.3              0.25         0.48             2.2      0.042   \n",
       "1372           10.7              0.22         0.56             8.2      0.044   \n",
       "1373           10.7              0.22         0.56             8.2      0.044   \n",
       "1526           14.2              0.27         0.49             1.1      0.037   \n",
       "1856           10.0              0.91         0.42             1.6      0.056   \n",
       "1900           10.0              0.23         0.27            14.1      0.033   \n",
       "2050           11.8              0.23         0.38            11.1      0.034   \n",
       "\n",
       "      free sulfur dioxide  total sulfur dioxide  density    pH  sulphates  \\\n",
       "207                  20.0                 124.0   0.9968  2.99       0.51   \n",
       "358                  19.0                 152.0   0.9940  3.00       0.42   \n",
       "873                   5.0                  33.0   0.9939  2.89       0.28   \n",
       "1239                 28.0                 164.0   0.9980  3.19       0.59   \n",
       "1372                 37.0                 181.0   0.9980  2.87       0.68   \n",
       "1373                 37.0                 181.0   0.9980  2.87       0.68   \n",
       "1526                 33.0                 156.0   0.9920  3.15       0.54   \n",
       "1856                 34.0                 181.0   0.9968  3.11       0.46   \n",
       "1900                 45.0                 166.0   0.9988  2.72       0.43   \n",
       "2050                 15.0                 123.0   0.9997  2.93       0.55   \n",
       "\n",
       "      alcohol  quality  \n",
       "207       9.9        4  \n",
       "358      10.4        6  \n",
       "873       9.6        3  \n",
       "1239      9.7        5  \n",
       "1372      9.5        6  \n",
       "1373      9.5        6  \n",
       "1526     11.1        6  \n",
       "1856     10.0        4  \n",
       "1900      9.7        6  \n",
       "2050      9.7        3  "
      ]
     },
     "execution_count": 88,
     "metadata": {},
     "output_type": "execute_result"
    }
   ],
   "source": [
    "dataset_df[dataset_df['fixed acidity'] >= 10]"
   ]
  },
  {
   "cell_type": "code",
   "execution_count": 71,
   "id": "93a738dd-3b51-4c0d-bc82-a561dcda46fa",
   "metadata": {},
   "outputs": [
    {
     "data": {
      "text/plain": [
       "((array([-3.41809637, -3.16880263, -3.03062888, ...,  3.03062888,\n",
       "          3.16880263,  3.41809637]),\n",
       "  array([ 3.8,  4.4,  4.7, ..., 10.7, 10.7, 14.2])),\n",
       " (0.8261616712648889, 6.837670609645132, 0.9853851117548065))"
      ]
     },
     "execution_count": 71,
     "metadata": {},
     "output_type": "execute_result"
    },
    {
     "data": {
      "image/png": "[encoded data removed]",
      "text/plain": [
       "<Figure size 640x480 with 1 Axes>"
      ]
     },
     "metadata": {},
     "output_type": "display_data"
    }
   ],
   "source": [
    "mask = dataset_df['quality'] == 6\n",
    "stats.probplot(dataset_df[mask]['fixed acidity'], dist=\"norm\", plot=plt)"
   ]
  },
  {
   "cell_type": "code",
   "execution_count": 87,
   "id": "77d80e73-6fd1-4cb2-9e45-9226acc1c1f1",
   "metadata": {},
   "outputs": [
    {
     "data": {
      "text/html": [
       "<div>\n",
       "<style scoped>\n",
       "    .dataframe tbody tr th:only-of-type {\n",
       "        vertical-align: middle;\n",
       "    }\n",
       "\n",
       "    .dataframe tbody tr th {\n",
       "        vertical-align: top;\n",
       "    }\n",
       "\n",
       "    .dataframe thead th {\n",
       "        text-align: right;\n",
       "    }\n",
       "</style>\n",
       "<table border=\"1\" class=\"dataframe\">\n",
       "  <thead>\n",
       "    <tr style=\"text-align: right;\">\n",
       "      <th></th>\n",
       "      <th>fixed acidity</th>\n",
       "      <th>volatile acidity</th>\n",
       "      <th>citric acid</th>\n",
       "      <th>residual sugar</th>\n",
       "      <th>chlorides</th>\n",
       "      <th>free sulfur dioxide</th>\n",
       "      <th>total sulfur dioxide</th>\n",
       "      <th>density</th>\n",
       "      <th>pH</th>\n",
       "      <th>sulphates</th>\n",
       "      <th>alcohol</th>\n",
       "      <th>quality</th>\n",
       "    </tr>\n",
       "  </thead>\n",
       "  <tbody>\n",
       "    <tr>\n",
       "      <th>745</th>\n",
       "      <td>7.4</td>\n",
       "      <td>0.200</td>\n",
       "      <td>1.66</td>\n",
       "      <td>2.10</td>\n",
       "      <td>0.022</td>\n",
       "      <td>34.0</td>\n",
       "      <td>113.0</td>\n",
       "      <td>0.99165</td>\n",
       "      <td>3.26</td>\n",
       "      <td>0.55</td>\n",
       "      <td>12.2</td>\n",
       "      <td>6</td>\n",
       "    </tr>\n",
       "    <tr>\n",
       "      <th>946</th>\n",
       "      <td>8.2</td>\n",
       "      <td>0.345</td>\n",
       "      <td>1.00</td>\n",
       "      <td>18.20</td>\n",
       "      <td>0.047</td>\n",
       "      <td>55.0</td>\n",
       "      <td>205.0</td>\n",
       "      <td>0.99965</td>\n",
       "      <td>2.96</td>\n",
       "      <td>0.43</td>\n",
       "      <td>9.6</td>\n",
       "      <td>5</td>\n",
       "    </tr>\n",
       "    <tr>\n",
       "      <th>1722</th>\n",
       "      <td>7.5</td>\n",
       "      <td>0.400</td>\n",
       "      <td>1.00</td>\n",
       "      <td>19.50</td>\n",
       "      <td>0.041</td>\n",
       "      <td>33.0</td>\n",
       "      <td>148.0</td>\n",
       "      <td>0.99770</td>\n",
       "      <td>3.24</td>\n",
       "      <td>0.38</td>\n",
       "      <td>12.0</td>\n",
       "      <td>6</td>\n",
       "    </tr>\n",
       "    <tr>\n",
       "      <th>1775</th>\n",
       "      <td>7.7</td>\n",
       "      <td>0.490</td>\n",
       "      <td>1.00</td>\n",
       "      <td>19.60</td>\n",
       "      <td>0.030</td>\n",
       "      <td>28.0</td>\n",
       "      <td>135.0</td>\n",
       "      <td>0.99730</td>\n",
       "      <td>3.24</td>\n",
       "      <td>0.40</td>\n",
       "      <td>12.0</td>\n",
       "      <td>6</td>\n",
       "    </tr>\n",
       "    <tr>\n",
       "      <th>3043</th>\n",
       "      <td>7.2</td>\n",
       "      <td>0.210</td>\n",
       "      <td>1.00</td>\n",
       "      <td>1.10</td>\n",
       "      <td>0.154</td>\n",
       "      <td>46.0</td>\n",
       "      <td>114.0</td>\n",
       "      <td>0.99310</td>\n",
       "      <td>2.95</td>\n",
       "      <td>0.43</td>\n",
       "      <td>9.2</td>\n",
       "      <td>6</td>\n",
       "    </tr>\n",
       "    <tr>\n",
       "      <th>3152</th>\n",
       "      <td>7.6</td>\n",
       "      <td>0.250</td>\n",
       "      <td>1.23</td>\n",
       "      <td>4.60</td>\n",
       "      <td>0.035</td>\n",
       "      <td>51.0</td>\n",
       "      <td>294.0</td>\n",
       "      <td>0.99018</td>\n",
       "      <td>3.03</td>\n",
       "      <td>0.43</td>\n",
       "      <td>13.1</td>\n",
       "      <td>6</td>\n",
       "    </tr>\n",
       "    <tr>\n",
       "      <th>3497</th>\n",
       "      <td>7.7</td>\n",
       "      <td>0.430</td>\n",
       "      <td>1.00</td>\n",
       "      <td>19.95</td>\n",
       "      <td>0.032</td>\n",
       "      <td>42.0</td>\n",
       "      <td>164.0</td>\n",
       "      <td>0.99742</td>\n",
       "      <td>3.29</td>\n",
       "      <td>0.50</td>\n",
       "      <td>12.0</td>\n",
       "      <td>6</td>\n",
       "    </tr>\n",
       "  </tbody>\n",
       "</table>\n",
       "</div>"
      ],
      "text/plain": [
       "      fixed acidity  volatile acidity  citric acid  residual sugar  chlorides  \\\n",
       "745             7.4             0.200         1.66            2.10      0.022   \n",
       "946             8.2             0.345         1.00           18.20      0.047   \n",
       "1722            7.5             0.400         1.00           19.50      0.041   \n",
       "1775            7.7             0.490         1.00           19.60      0.030   \n",
       "3043            7.2             0.210         1.00            1.10      0.154   \n",
       "3152            7.6             0.250         1.23            4.60      0.035   \n",
       "3497            7.7             0.430         1.00           19.95      0.032   \n",
       "\n",
       "      free sulfur dioxide  total sulfur dioxide  density    pH  sulphates  \\\n",
       "745                  34.0                 113.0  0.99165  3.26       0.55   \n",
       "946                  55.0                 205.0  0.99965  2.96       0.43   \n",
       "1722                 33.0                 148.0  0.99770  3.24       0.38   \n",
       "1775                 28.0                 135.0  0.99730  3.24       0.40   \n",
       "3043                 46.0                 114.0  0.99310  2.95       0.43   \n",
       "3152                 51.0                 294.0  0.99018  3.03       0.43   \n",
       "3497                 42.0                 164.0  0.99742  3.29       0.50   \n",
       "\n",
       "      alcohol  quality  \n",
       "745      12.2        6  \n",
       "946       9.6        5  \n",
       "1722     12.0        6  \n",
       "1775     12.0        6  \n",
       "3043      9.2        6  \n",
       "3152     13.1        6  \n",
       "3497     12.0        6  "
      ]
     },
     "execution_count": 87,
     "metadata": {},
     "output_type": "execute_result"
    }
   ],
   "source": [
    "dataset_df[dataset_df['citric acid'] >= 1]"
   ]
  },
  {
   "cell_type": "code",
   "execution_count": 84,
   "id": "4b6f3663-8183-4248-93f4-1eba615fbc93",
   "metadata": {},
   "outputs": [
    {
     "data": {
      "text/plain": [
       "((array([-3.63037229, -3.39472968, -3.26483892, ...,  3.26483892,\n",
       "          3.39472968,  3.63037229]),\n",
       "  array([0.  , 0.  , 0.  , ..., 1.  , 1.23, 1.66])),\n",
       " (0.11624027005127821, 0.33419150673744386, 0.9599514246960369))"
      ]
     },
     "execution_count": 84,
     "metadata": {},
     "output_type": "execute_result"
    },
    {
     "data": {
      "image/png": "[encoded data removed]",
      "text/plain": [
       "<Figure size 640x480 with 1 Axes>"
      ]
     },
     "metadata": {},
     "output_type": "display_data"
    }
   ],
   "source": [
    "stats.probplot(dataset_df['citric acid'], dist=\"norm\", plot=plt)"
   ]
  },
  {
   "cell_type": "code",
   "execution_count": 89,
   "id": "c257de96-9715-4d5a-99c6-d6a2bc2808b3",
   "metadata": {},
   "outputs": [
    {
     "data": {
      "text/html": [
       "<div>\n",
       "<style scoped>\n",
       "    .dataframe tbody tr th:only-of-type {\n",
       "        vertical-align: middle;\n",
       "    }\n",
       "\n",
       "    .dataframe tbody tr th {\n",
       "        vertical-align: top;\n",
       "    }\n",
       "\n",
       "    .dataframe thead th {\n",
       "        text-align: right;\n",
       "    }\n",
       "</style>\n",
       "<table border=\"1\" class=\"dataframe\">\n",
       "  <thead>\n",
       "    <tr style=\"text-align: right;\">\n",
       "      <th></th>\n",
       "      <th>fixed acidity</th>\n",
       "      <th>volatile acidity</th>\n",
       "      <th>citric acid</th>\n",
       "      <th>residual sugar</th>\n",
       "      <th>chlorides</th>\n",
       "      <th>free sulfur dioxide</th>\n",
       "      <th>total sulfur dioxide</th>\n",
       "      <th>density</th>\n",
       "      <th>pH</th>\n",
       "      <th>sulphates</th>\n",
       "      <th>alcohol</th>\n",
       "      <th>quality</th>\n",
       "    </tr>\n",
       "  </thead>\n",
       "  <tbody>\n",
       "    <tr>\n",
       "      <th>2781</th>\n",
       "      <td>7.8</td>\n",
       "      <td>0.965</td>\n",
       "      <td>0.6</td>\n",
       "      <td>65.8</td>\n",
       "      <td>0.074</td>\n",
       "      <td>8.0</td>\n",
       "      <td>160.0</td>\n",
       "      <td>1.03898</td>\n",
       "      <td>3.39</td>\n",
       "      <td>0.69</td>\n",
       "      <td>11.7</td>\n",
       "      <td>6</td>\n",
       "    </tr>\n",
       "  </tbody>\n",
       "</table>\n",
       "</div>"
      ],
      "text/plain": [
       "      fixed acidity  volatile acidity  citric acid  residual sugar  chlorides  \\\n",
       "2781            7.8             0.965          0.6            65.8      0.074   \n",
       "\n",
       "      free sulfur dioxide  total sulfur dioxide  density    pH  sulphates  \\\n",
       "2781                  8.0                 160.0  1.03898  3.39       0.69   \n",
       "\n",
       "      alcohol  quality  \n",
       "2781     11.7        6  "
      ]
     },
     "execution_count": 89,
     "metadata": {},
     "output_type": "execute_result"
    }
   ],
   "source": [
    "dataset_df[dataset_df['residual sugar'] > 40]"
   ]
  },
  {
   "cell_type": "code",
   "execution_count": 86,
   "id": "a0ae1129-3f0b-41af-814a-2cd572dc298c",
   "metadata": {},
   "outputs": [
    {
     "data": {
      "text/plain": [
       "((array([-3.63037229, -3.39472968, -3.26483892, ...,  3.26483892,\n",
       "          3.39472968,  3.63037229]),\n",
       "  array([ 0.6,  0.6,  0.7, ..., 31.6, 31.6, 65.8])),\n",
       " (4.771710793196471, 6.391414863209473, 0.9402406304685053))"
      ]
     },
     "execution_count": 86,
     "metadata": {},
     "output_type": "execute_result"
    },
    {
     "data": {
      "image/png": "[encoded data removed]",
      "text/plain": [
       "<Figure size 640x480 with 1 Axes>"
      ]
     },
     "metadata": {},
     "output_type": "display_data"
    }
   ],
   "source": [
    "stats.probplot(dataset_df['residual sugar'], dist=\"norm\", plot=plt)"
   ]
  },
  {
   "cell_type": "code",
   "execution_count": 8,
   "id": "93ad5680-6149-4fcf-89db-6df5a9de56d4",
   "metadata": {},
   "outputs": [
    {
     "data": {
      "text/plain": [
       "<Axes: xlabel='quality'>"
      ]
     },
     "execution_count": 8,
     "metadata": {},
     "output_type": "execute_result"
    },
    {
     "data": {
      "image/png": "[encoded data removed]",
      "text/plain": [
       "<Figure size 640x480 with 1 Axes>"
      ]
     },
     "metadata": {},
     "output_type": "display_data"
    }
   ],
   "source": [
    "dataset_df.groupby(['quality']).mean().plot(kind=\"bar\", y=[\"free sulfur dioxide\", \"total sulfur dioxide\"])"
   ]
  },
  {
   "cell_type": "code",
   "execution_count": 9,
   "id": "fc74069a-d3fb-4d8e-a96a-e919e08d69ad",
   "metadata": {},
   "outputs": [
    {
     "data": {
      "text/html": [
       "<div>\n",
       "<style scoped>\n",
       "    .dataframe tbody tr th:only-of-type {\n",
       "        vertical-align: middle;\n",
       "    }\n",
       "\n",
       "    .dataframe tbody tr th {\n",
       "        vertical-align: top;\n",
       "    }\n",
       "\n",
       "    .dataframe thead th {\n",
       "        text-align: right;\n",
       "    }\n",
       "</style>\n",
       "<table border=\"1\" class=\"dataframe\">\n",
       "  <thead>\n",
       "    <tr style=\"text-align: right;\">\n",
       "      <th></th>\n",
       "      <th></th>\n",
       "      <th>free sulfur dioxide</th>\n",
       "      <th>total sulfur dioxide</th>\n",
       "    </tr>\n",
       "    <tr>\n",
       "      <th>quality</th>\n",
       "      <th></th>\n",
       "      <th></th>\n",
       "      <th></th>\n",
       "    </tr>\n",
       "  </thead>\n",
       "  <tbody>\n",
       "    <tr>\n",
       "      <th rowspan=\"2\" valign=\"top\">3</th>\n",
       "      <th>free sulfur dioxide</th>\n",
       "      <td>1.000000</td>\n",
       "      <td>0.776483</td>\n",
       "    </tr>\n",
       "    <tr>\n",
       "      <th>total sulfur dioxide</th>\n",
       "      <td>0.776483</td>\n",
       "      <td>1.000000</td>\n",
       "    </tr>\n",
       "    <tr>\n",
       "      <th rowspan=\"2\" valign=\"top\">4</th>\n",
       "      <th>free sulfur dioxide</th>\n",
       "      <td>1.000000</td>\n",
       "      <td>0.657583</td>\n",
       "    </tr>\n",
       "    <tr>\n",
       "      <th>total sulfur dioxide</th>\n",
       "      <td>0.657583</td>\n",
       "      <td>1.000000</td>\n",
       "    </tr>\n",
       "    <tr>\n",
       "      <th rowspan=\"2\" valign=\"top\">5</th>\n",
       "      <th>free sulfur dioxide</th>\n",
       "      <td>1.000000</td>\n",
       "      <td>0.664293</td>\n",
       "    </tr>\n",
       "    <tr>\n",
       "      <th>total sulfur dioxide</th>\n",
       "      <td>0.664293</td>\n",
       "      <td>1.000000</td>\n",
       "    </tr>\n",
       "    <tr>\n",
       "      <th rowspan=\"2\" valign=\"top\">6</th>\n",
       "      <th>free sulfur dioxide</th>\n",
       "      <td>1.000000</td>\n",
       "      <td>0.596310</td>\n",
       "    </tr>\n",
       "    <tr>\n",
       "      <th>total sulfur dioxide</th>\n",
       "      <td>0.596310</td>\n",
       "      <td>1.000000</td>\n",
       "    </tr>\n",
       "    <tr>\n",
       "      <th rowspan=\"2\" valign=\"top\">7</th>\n",
       "      <th>free sulfur dioxide</th>\n",
       "      <td>1.000000</td>\n",
       "      <td>0.532689</td>\n",
       "    </tr>\n",
       "    <tr>\n",
       "      <th>total sulfur dioxide</th>\n",
       "      <td>0.532689</td>\n",
       "      <td>1.000000</td>\n",
       "    </tr>\n",
       "    <tr>\n",
       "      <th rowspan=\"2\" valign=\"top\">8</th>\n",
       "      <th>free sulfur dioxide</th>\n",
       "      <td>1.000000</td>\n",
       "      <td>0.621078</td>\n",
       "    </tr>\n",
       "    <tr>\n",
       "      <th>total sulfur dioxide</th>\n",
       "      <td>0.621078</td>\n",
       "      <td>1.000000</td>\n",
       "    </tr>\n",
       "    <tr>\n",
       "      <th rowspan=\"2\" valign=\"top\">9</th>\n",
       "      <th>free sulfur dioxide</th>\n",
       "      <td>1.000000</td>\n",
       "      <td>0.168112</td>\n",
       "    </tr>\n",
       "    <tr>\n",
       "      <th>total sulfur dioxide</th>\n",
       "      <td>0.168112</td>\n",
       "      <td>1.000000</td>\n",
       "    </tr>\n",
       "  </tbody>\n",
       "</table>\n",
       "</div>"
      ],
      "text/plain": [
       "                              free sulfur dioxide  total sulfur dioxide\n",
       "quality                                                                \n",
       "3       free sulfur dioxide              1.000000              0.776483\n",
       "        total sulfur dioxide             0.776483              1.000000\n",
       "4       free sulfur dioxide              1.000000              0.657583\n",
       "        total sulfur dioxide             0.657583              1.000000\n",
       "5       free sulfur dioxide              1.000000              0.664293\n",
       "        total sulfur dioxide             0.664293              1.000000\n",
       "6       free sulfur dioxide              1.000000              0.596310\n",
       "        total sulfur dioxide             0.596310              1.000000\n",
       "7       free sulfur dioxide              1.000000              0.532689\n",
       "        total sulfur dioxide             0.532689              1.000000\n",
       "8       free sulfur dioxide              1.000000              0.621078\n",
       "        total sulfur dioxide             0.621078              1.000000\n",
       "9       free sulfur dioxide              1.000000              0.168112\n",
       "        total sulfur dioxide             0.168112              1.000000"
      ]
     },
     "execution_count": 9,
     "metadata": {},
     "output_type": "execute_result"
    }
   ],
   "source": [
    "dataset_df.groupby(['quality'])[[\"free sulfur dioxide\", \"total sulfur dioxide\"]].corr()"
   ]
  },
  {
   "cell_type": "code",
   "execution_count": 10,
   "id": "6b2f8b7b-7278-4c8d-bb9e-0876531ba466",
   "metadata": {},
   "outputs": [
    {
     "data": {
      "text/plain": [
       "<Axes: xlabel='quality'>"
      ]
     },
     "execution_count": 10,
     "metadata": {},
     "output_type": "execute_result"
    },
    {
     "data": {
      "image/png": "[encoded data removed]",
      "text/plain": [
       "<Figure size 640x480 with 1 Axes>"
      ]
     },
     "metadata": {},
     "output_type": "display_data"
    }
   ],
   "source": [
    "std_devs = dataset_df.groupby(['quality'])[[\"chlorides\"]].std()\n",
    "dataset_df.groupby(['quality']).mean().plot(kind=\"bar\", y=[\"chlorides\"], yerr=std_devs)"
   ]
  },
  {
   "cell_type": "code",
   "execution_count": 11,
   "id": "4aa76dda-bd0c-4e37-9bcf-5b09e80c7bd1",
   "metadata": {},
   "outputs": [
    {
     "data": {
      "text/plain": [
       "<Axes: xlabel='quality'>"
      ]
     },
     "execution_count": 11,
     "metadata": {},
     "output_type": "execute_result"
    },
    {
     "data": {
      "image/png": "[encoded data removed]",
      "text/plain": [
       "<Figure size 640x480 with 1 Axes>"
      ]
     },
     "metadata": {},
     "output_type": "display_data"
    }
   ],
   "source": [
    "std_devs = dataset_df.groupby(['quality'])[[\"alcohol\"]].std()\n",
    "dataset_df.groupby(['quality']).mean().plot(kind=\"bar\", y=[\"alcohol\"], yerr=std_devs)"
   ]
  },
  {
   "cell_type": "markdown",
   "id": "214bc9c5-1aa3-4b93-b44f-be0631567e4d",
   "metadata": {},
   "source": [
    "## Load the PyTorch Model to do Prediction Exploration"
   ]
  },
  {
   "cell_type": "code",
   "execution_count": 12,
   "id": "ef1e37df-a279-464a-b822-7565f5f58693",
   "metadata": {},
   "outputs": [],
   "source": [
    "sys.path.append('..')\n",
    "import pytorch.train as pyttrain"
   ]
  },
  {
   "cell_type": "code",
   "execution_count": 13,
   "id": "3de0ff63-0906-43a0-b5a6-f99f94e0a7e3",
   "metadata": {},
   "outputs": [],
   "source": [
    "device = pyttrain.get_device()\n",
    "model = pyttrain.NeuralNetwork().to(device)"
   ]
  },
  {
   "cell_type": "code",
   "execution_count": 14,
   "id": "db2c60d1-d245-4eb8-a5cc-1a0f797dc344",
   "metadata": {},
   "outputs": [],
   "source": [
    "model.load_state_dict(torch.load(\"../pytorch\" / pyttrain.OUTPUT_MODEL_PATH))\n",
    "\n",
    "with open(\"../pytorch\" / pyttrain.TRAIN_DATASET_PATH, \"rb\") as f:\n",
    "    train_dataset = pickle.load(f)\n",
    "train_dataloader = torch.utils.data.DataLoader(train_dataset, batch_size=pyttrain.BATCH_SIZE)\n",
    "\n",
    "with open(\"../pytorch\" / pyttrain.VALIDATE_DATASET_PATH, \"rb\") as f:\n",
    "    validate_dataset = pickle.load(f)\n",
    "validate_dataloader = torch.utils.data.DataLoader(validate_dataset, batch_size=pyttrain.BATCH_SIZE)\n",
    "\n",
    "with open(\"../pytorch\" / pyttrain.TEST_DATASET_PATH, \"rb\") as f:\n",
    "    test_dataset = pickle.load(f)\n",
    "test_dataloader = torch.utils.data.DataLoader(test_dataset, batch_size=pyttrain.BATCH_SIZE)"
   ]
  },
  {
   "cell_type": "markdown",
   "id": "ba563c85-e53f-42a1-942f-854323e74c6e",
   "metadata": {},
   "source": [
    "## Predict from the Train/Test Datasets"
   ]
  },
  {
   "cell_type": "code",
   "execution_count": 24,
   "id": "aebf2b6a-f615-421f-8661-62fac4c60f99",
   "metadata": {},
   "outputs": [],
   "source": [
    "train_pred_scores = []\n",
    "for X, y in train_dataloader:\n",
    "    X, y = X.to(device), y.to(device)\n",
    "    pred = model(X)\n",
    "    train_pred_scores += pred.round().tolist()\n",
    "\n",
    "validate_pred_scores = []\n",
    "for X, y in validate_dataloader:\n",
    "    X, y = X.to(device), y.to(device)\n",
    "    pred = model(X)\n",
    "    validate_pred_scores += pred.round().tolist()\n",
    "\n",
    "test_pred_scores = []\n",
    "test_true_scores = []\n",
    "for X, y in test_dataloader:\n",
    "    X, y = X.to(device), y.to(device)\n",
    "    pred = model(X)\n",
    "    test_pred_scores += pred.round().tolist()\n",
    "    test_true_scores += y.tolist()"
   ]
  },
  {
   "cell_type": "markdown",
   "id": "c7b8f965-e6d4-4630-9c18-634d10d86fed",
   "metadata": {},
   "source": [
    "## Explore Trends in the Predictions"
   ]
  },
  {
   "cell_type": "code",
   "execution_count": 16,
   "id": "9ed74cf5-8105-4f29-813b-a7987759cc23",
   "metadata": {},
   "outputs": [
    {
     "data": {
      "image/png": "[encoded data removed]",
      "text/plain": [
       "<Figure size 640x480 with 1 Axes>"
      ]
     },
     "metadata": {},
     "output_type": "display_data"
    }
   ],
   "source": [
    "# Create histogram\n",
    "plt.hist(train_pred_scores, bins=range(11), align='left', rwidth=0.8)\n",
    "\n",
    "# Set labels and title\n",
    "plt.title('Train Prediction Frequencies')\n",
    "plt.xlabel('Predicted Score')\n",
    "plt.ylabel('Frequency')\n",
    "plt.xticks(range(11))\n",
    "\n",
    "# Show plot\n",
    "plt.show()"
   ]
  },
  {
   "cell_type": "code",
   "execution_count": 17,
   "id": "94baa512-dfb9-41d7-9d3a-ba54876d1fc2",
   "metadata": {},
   "outputs": [
    {
     "data": {
      "image/png": "[encoded data removed]",
      "text/plain": [
       "<Figure size 640x480 with 1 Axes>"
      ]
     },
     "metadata": {},
     "output_type": "display_data"
    }
   ],
   "source": [
    "# Create histogram\n",
    "plt.hist(validate_pred_scores, bins=range(11), align='left', rwidth=0.8)\n",
    "\n",
    "# Set labels and title\n",
    "plt.title('Validate Prediction Frequencies')\n",
    "plt.xlabel('Predicted Score')\n",
    "plt.ylabel('Frequency')\n",
    "plt.xticks(range(11))\n",
    "\n",
    "# Show plot\n",
    "plt.show()"
   ]
  },
  {
   "cell_type": "code",
   "execution_count": 18,
   "id": "96d3583c-a721-4cb8-b71a-cc4726de34a0",
   "metadata": {},
   "outputs": [
    {
     "data": {
      "image/png": "[encoded data removed]",
      "text/plain": [
       "<Figure size 640x480 with 1 Axes>"
      ]
     },
     "metadata": {},
     "output_type": "display_data"
    }
   ],
   "source": [
    "# Create histogram\n",
    "plt.hist(test_pred_scores, bins=range(11), align='left', rwidth=0.8)\n",
    "\n",
    "# Set labels and title\n",
    "plt.title('Test Prediction Frequencies')\n",
    "plt.xlabel('Predicted Score')\n",
    "plt.ylabel('Frequency')\n",
    "plt.xticks(range(11))\n",
    "\n",
    "# Show plot\n",
    "plt.show()"
   ]
  },
  {
   "cell_type": "markdown",
   "id": "9f91da7e-14d5-40b3-a709-289ad36a8cc4",
   "metadata": {},
   "source": [
    "## Analyze via Confusion Matrix"
   ]
  },
  {
   "cell_type": "code",
   "execution_count": 31,
   "id": "d2330152-3a96-43d5-a04b-e7109515c905",
   "metadata": {},
   "outputs": [
    {
     "data": {
      "image/png": "[encoded data removed]",
      "text/plain": [
       "<Figure size 640x480 with 2 Axes>"
      ]
     },
     "metadata": {},
     "output_type": "display_data"
    }
   ],
   "source": [
    "classes = list(range(10))\n",
    "\n",
    "y_true = test_true_scores\n",
    "y_pred = test_pred_scores\n",
    "\n",
    "# Compute confusion matrix\n",
    "conf_matrix = confusion_matrix(y_true, y_pred, labels=classes)\n",
    "\n",
    "# Plot confusion matrix\n",
    "plt.imshow(conf_matrix, interpolation='nearest', cmap=plt.cm.Blues)\n",
    "plt.title('Confusion matrix')\n",
    "plt.colorbar()\n",
    "\n",
    "tick_marks = list(range(len(classes)))\n",
    "plt.xticks(tick_marks, classes, rotation=45)\n",
    "plt.yticks(tick_marks, classes)\n",
    "\n",
    "thresh = conf_matrix.max() / 2.\n",
    "for i in range(conf_matrix.shape[0]):\n",
    "    for j in range(conf_matrix.shape[1]):\n",
    "        plt.text(j, i, format(conf_matrix[i, j], 'd'),\n",
    "             horizontalalignment=\"center\",\n",
    "             color=\"white\" if conf_matrix[i, j] > thresh else \"black\")\n",
    "\n",
    "plt.ylabel('True Quality')\n",
    "plt.xlabel('Predicted Quality')\n",
    "plt.tight_layout()\n",
    "plt.show()"
   ]
  },
  {
   "cell_type": "code",
   "execution_count": null,
   "id": "ff980904-3e06-42fa-bda8-923be0cfd1dd",
   "metadata": {},
   "outputs": [],
   "source": []
  }
 ],
 "metadata": {
  "kernelspec": {
   "display_name": "Python 3 (ipykernel)",
   "language": "python",
   "name": "python3"
  },
  "language_info": {
   "codemirror_mode": {
    "name": "ipython",
    "version": 3
   },
   "file_extension": ".py",
   "mimetype": "text/x-python",
   "name": "python",
   "nbconvert_exporter": "python",
   "pygments_lexer": "ipython3",
   "version": "3.11.8"
  }
 },
 "nbformat": 4,
 "nbformat_minor": 5
}
